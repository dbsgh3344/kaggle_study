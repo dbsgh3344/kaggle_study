{
  "nbformat": 4,
  "nbformat_minor": 0,
  "metadata": {
    "colab": {
      "name": "algorithm_week9.ipynb",
      "provenance": [],
      "collapsed_sections": []
    },
    "kernelspec": {
      "name": "python3",
      "display_name": "Python 3"
    }
  },
  "cells": [
    {
      "cell_type": "markdown",
      "metadata": {
        "id": "85ztVzW9QmHO",
        "colab_type": "text"
      },
      "source": [
        "# DBSCAN  (Density- Based Spatial Clustering of Application with Noise)\n",
        "\n",
        "클러스터링 알고리즘은 크게 중심 기반 (center-based) 알고리즘과 밀도 기반 (density-based) 알고리즘으로 나눌 수 있다. \n",
        "\n",
        "중심 기반 클러스터링 : k-means   \n",
        "밀도 기반 클러스터링 : DBSCAN \n",
        "\n",
        "중심 기반 클러스터링 알고리즘은 \"동일한 클래스에 속하는 데이터는 어떠한 중심을 기준으로 분포할 것이다\"라는 가정을 기반으로 한다. 이와 다르게 밀도 기반 알고리즘은 \"동일한 클래스에 속하는 데이터는 서로 근접하게 분포할 것이다\"라는 가정을 기반으로 동작한다. \n"
      ]
    },
    {
      "cell_type": "markdown",
      "metadata": {
        "id": "_Nof_SafUxap",
        "colab_type": "text"
      },
      "source": [
        "클러스터링 비교 이미지  \n",
        "<img src= \"https://img1.daumcdn.net/thumb/R1280x0/?scode=mtistory2&fname=http%3A%2F%2Fcfile22.uf.tistory.com%2Fimage%2F99D207335B96763F180C1C\" > \n",
        "\n",
        "\n",
        "중신 기반 클러스터링은 먼저 중심 데이터를 선정하고 이를 기반으로 이웃한 데이터를 클러스터링 하는 반면, 밀도 기반 클러스터링은 어떤 데이터의 주변에 이웃한 데이터들이 있을 경우, 그 데이터를 핵심 데이터로 선정하며 클러스터링을 진행해갑니다. \n"
      ]
    },
    {
      "cell_type": "markdown",
      "metadata": {
        "id": "yEZhIlvQiGpT",
        "colab_type": "text"
      },
      "source": [
        "장점 \n",
        "- 클러스터링 개수를 지정해 줄 필요없이 자동으로 찾는다. \n",
        "- 원모양의 클러스터 뿐만아니라 불특정한 모양의 클러스터도 찾을 수 있다. \n",
        "- 클러스터링을 수행하며 noise 데이터도 걸러내기 때문에 이상치에 대해 둔감하다.\n",
        "\n",
        "단점\n",
        "- 데이터 입력순서에 클러스터가 영향을 받는다. \n",
        "- 알고리즘이 사용하는 거리 측정방법에 클러스터가 영향을 받는다.\n",
        "- 데이터의 특성을 모를 경우, 알고리즘의 적절한 hyper parameter를 설정해주기 어렵다. \n"
      ]
    },
    {
      "cell_type": "markdown",
      "metadata": {
        "id": "R1ok6G9jrZ_Z",
        "colab_type": "text"
      },
      "source": [
        "## DBSCAN 작동원리  \n",
        "\n",
        "DBSCAN은 각각의 데이터들에 대해 이웃한 데이터와의 밀도를 계산하면서 불특정한 모양의 클러스터를 생성한다. 따라서, DBSCAN을 정의하기 위해서는 이웃한 데이터와 클러스터에 대한 정의가 필요하다. 이를 위해 DBSCAN의 hyper-parameter로 주어지는 주변 거리 ϵ과 최소 이웃 데이터의 수 nc를 기반으로 아래와 같은 개념들을 정의한다.\n",
        "\n",
        "- 이웃 데이터 (border data) : 어떤 데이터 x와의 주변 거리 ϵ내에 있지만 자기 자신을 중심으로 주변 거리 ϵ내에는 이웃 데이터의 수 nc를 만족하진 못하는 데이터\n",
        "- 핵심 데이터 (core data) : 이웃 데이터의 수 nc를 만족하는 데이터 \n",
        "- 노이즈 데이터 (noise data) : 핵심도 아니고 이웃도 아닌 데이터\n",
        "\n"
      ]
    },
    {
      "cell_type": "markdown",
      "metadata": {
        "id": "QF4zp6WOuKcT",
        "colab_type": "text"
      },
      "source": [
        "DBSCAN 데이터분류 예시  \n",
        "<img src= \"https://www.researchgate.net/profile/Yijin_Liu/publication/308750501/figure/fig4/AS:412083041652736@1475259661770/Schematic-drawings-of-the-DBSCAN-clustering-algorithm-Panel-a-shows-the-clustering.png\">\n",
        "\n",
        "- 그림 b의 P는 주변 eps내에 MinPts 를 넘는 이웃데이터를 가지고 있으므로 core data로 분류됩니다.\n",
        "- 그림 c의 P' 는 핵심데이터의 eps내에 존재하지만 자기자신을 기준으론 eps내에 MinPts를 넘지 못하므로 border data로 분류됩니다.\n",
        "- 그림 f의 데이터는 eps내에 MinPts를 넘는 이웃데이터를 가지고 있지도 않고 핵심 데이터의 eps 내에 포함되지도 못하기 때문에 noise data로 분류됩니다."
      ]
    },
    {
      "cell_type": "markdown",
      "metadata": {
        "id": "dSP63Z0cWojv",
        "colab_type": "text"
      },
      "source": [
        "## dbscan 모델 구현"
      ]
    },
    {
      "cell_type": "markdown",
      "metadata": {
        "id": "kbP2isBzW1mY",
        "colab_type": "text"
      },
      "source": [
        "랜덤 데이터 생성"
      ]
    },
    {
      "cell_type": "code",
      "metadata": {
        "id": "9VYOg0lkwfDK",
        "colab_type": "code",
        "colab": {}
      },
      "source": [
        "import numpy as np\n",
        "\n",
        "rdata = np.random.randn(10,2)"
      ],
      "execution_count": 0,
      "outputs": []
    },
    {
      "cell_type": "code",
      "metadata": {
        "id": "T15kk-vSE-ZV",
        "colab_type": "code",
        "outputId": "b44f2ebc-d280-4ac9-8c2a-b9dbde62d457",
        "colab": {
          "base_uri": "https://localhost:8080/",
          "height": 197
        }
      },
      "source": [
        "rdata"
      ],
      "execution_count": 24,
      "outputs": [
        {
          "output_type": "execute_result",
          "data": {
            "text/plain": [
              "array([[ 0.99693075, -0.9090959 ],\n",
              "       [-0.36485279,  0.58455318],\n",
              "       [-0.79241895,  1.4513677 ],\n",
              "       [-1.23154446,  2.00724778],\n",
              "       [-0.89915197,  2.26471044],\n",
              "       [ 0.87295435,  0.03354676],\n",
              "       [ 0.04030602,  1.19448548],\n",
              "       [-0.54311997,  1.32327579],\n",
              "       [-1.83072375,  0.17645713],\n",
              "       [-0.41283396, -0.95250149]])"
            ]
          },
          "metadata": {
            "tags": []
          },
          "execution_count": 24
        }
      ]
    },
    {
      "cell_type": "code",
      "metadata": {
        "id": "apq84SQAx387",
        "colab_type": "code",
        "outputId": "8c70efa6-2a30-40ce-ef6e-ef7455093693",
        "colab": {
          "base_uri": "https://localhost:8080/",
          "height": 53
        }
      },
      "source": [
        "rdata[:,0]"
      ],
      "execution_count": 25,
      "outputs": [
        {
          "output_type": "execute_result",
          "data": {
            "text/plain": [
              "array([ 0.99693075, -0.36485279, -0.79241895, -1.23154446, -0.89915197,\n",
              "        0.87295435,  0.04030602, -0.54311997, -1.83072375, -0.41283396])"
            ]
          },
          "metadata": {
            "tags": []
          },
          "execution_count": 25
        }
      ]
    },
    {
      "cell_type": "code",
      "metadata": {
        "id": "-NftLxA_xaUl",
        "colab_type": "code",
        "outputId": "ceef190a-5375-4403-da62-321bd0b23558",
        "colab": {
          "base_uri": "https://localhost:8080/",
          "height": 283
        }
      },
      "source": [
        "import matplotlib.pyplot as plt\n",
        "\n",
        "\n",
        "# a= plt.axes(xlim=(-2,2),ylim=(-2,2))\n",
        "plt.scatter(rdata[:,0],rdata[:,1])\n"
      ],
      "execution_count": 26,
      "outputs": [
        {
          "output_type": "execute_result",
          "data": {
            "text/plain": [
              "<matplotlib.collections.PathCollection at 0x7f7dc36d2208>"
            ]
          },
          "metadata": {
            "tags": []
          },
          "execution_count": 26
        },
        {
          "output_type": "display_data",
          "data": {
            "image/png": "[encoded data removed]",
            "text/plain": [
              "<Figure size 432x288 with 1 Axes>"
            ]
          },
          "metadata": {
            "tags": [],
            "needs_background": "light"
          }
        }
      ]
    },
    {
      "cell_type": "markdown",
      "metadata": {
        "id": "UdSv8x4RW5dI",
        "colab_type": "text"
      },
      "source": [
        "데이터간 거리 측정\n",
        "- 유클리드 거리\n",
        "- eps = 0.8"
      ]
    },
    {
      "cell_type": "code",
      "metadata": {
        "id": "oODUBomUNmiu",
        "colab_type": "code",
        "colab": {}
      },
      "source": [
        "import numpy as np\n",
        "eps = 0.8\n",
        "eud_lists = []\n",
        "eud_index =[]\n",
        "for i in range(len(rdata)):\n",
        "    lists = []\n",
        "    idxs = []\n",
        "    for j in range(len(rdata)):\n",
        "        eu_d = np.sqrt((rdata[i,0] - rdata[j,0])**2 + (rdata[i,1]-rdata[j,1])**2)\n",
        "        if (eu_d != 0) and (eu_d <= eps):\n",
        "            idxs.append(j)\n",
        "            lists.append(eu_d)\n",
        "    eud_lists.append(lists)\n",
        "    eud_index.append(idxs)\n",
        "\n",
        "\n",
        "    "
      ],
      "execution_count": 0,
      "outputs": []
    },
    {
      "cell_type": "code",
      "metadata": {
        "id": "YhLtSxc1QzS9",
        "colab_type": "code",
        "outputId": "6d63c4b1-f476-4dff-fd56-e205224e5c56",
        "colab": {
          "base_uri": "https://localhost:8080/",
          "height": 197
        }
      },
      "source": [
        "eud_lists"
      ],
      "execution_count": 28,
      "outputs": [
        {
          "output_type": "execute_result",
          "data": {
            "text/plain": [
              "[[],\n",
              " [0.7322370301521087, 0.759927813843305],\n",
              " [0.7084023494528385, 0.28028113788460185],\n",
              " [0.7084023494528385, 0.4204423738044254],\n",
              " [0.4204423738044254],\n",
              " [],\n",
              " [0.7322370301521087, 0.5974720305136714],\n",
              " [0.759927813843305, 0.28028113788460185, 0.5974720305136714],\n",
              " [],\n",
              " []]"
            ]
          },
          "metadata": {
            "tags": []
          },
          "execution_count": 28
        }
      ]
    },
    {
      "cell_type": "code",
      "metadata": {
        "id": "dGcLP4hUfrku",
        "colab_type": "code",
        "outputId": "6c81c328-9864-4e29-dde9-94ad33e378d9",
        "colab": {
          "base_uri": "https://localhost:8080/",
          "height": 35
        }
      },
      "source": [
        "eud_index"
      ],
      "execution_count": 29,
      "outputs": [
        {
          "output_type": "execute_result",
          "data": {
            "text/plain": [
              "[[], [6, 7], [3, 7], [2, 4], [3], [], [1, 7], [1, 2, 6], [], []]"
            ]
          },
          "metadata": {
            "tags": []
          },
          "execution_count": 29
        }
      ]
    },
    {
      "cell_type": "markdown",
      "metadata": {
        "id": "r2q3rfDiXFJO",
        "colab_type": "text"
      },
      "source": [
        "- 최소 이웃 데이터 =2 로 하여 인근 2개 이상의 데이터를 가지고 있으면 core 데이터로 한다."
      ]
    },
    {
      "cell_type": "code",
      "metadata": {
        "id": "QHybNdr6UPnJ",
        "colab_type": "code",
        "colab": {}
      },
      "source": [
        "core_index = []\n",
        "border_index= []\n",
        "noise_index = []\n",
        "for idx,i in enumerate(eud_lists):\n",
        "    if len(i) >=2:\n",
        "        core_index.append(rdata[idx])\n",
        "    elif len(i) != 0:\n",
        "        border_index.append(rdata[idx])\n",
        "    else:\n",
        "        noise_index.append(rdata[idx])"
      ],
      "execution_count": 0,
      "outputs": []
    },
    {
      "cell_type": "code",
      "metadata": {
        "id": "wWwNN2xALozJ",
        "colab_type": "code",
        "outputId": "8b631ed0-2d55-4904-fb33-eec9cf59d4fe",
        "colab": {
          "base_uri": "https://localhost:8080/",
          "height": 197
        }
      },
      "source": [
        "core_index,border_index,noise_index"
      ],
      "execution_count": 31,
      "outputs": [
        {
          "output_type": "execute_result",
          "data": {
            "text/plain": [
              "([array([-0.36485279,  0.58455318]),\n",
              "  array([-0.79241895,  1.4513677 ]),\n",
              "  array([-1.23154446,  2.00724778]),\n",
              "  array([0.04030602, 1.19448548]),\n",
              "  array([-0.54311997,  1.32327579])],\n",
              " [array([-0.89915197,  2.26471044])],\n",
              " [array([ 0.99693075, -0.9090959 ]),\n",
              "  array([0.87295435, 0.03354676]),\n",
              "  array([-1.83072375,  0.17645713]),\n",
              "  array([-0.41283396, -0.95250149])])"
            ]
          },
          "metadata": {
            "tags": []
          },
          "execution_count": 31
        }
      ]
    },
    {
      "cell_type": "code",
      "metadata": {
        "id": "DffBr9NkZBuX",
        "colab_type": "code",
        "colab": {}
      },
      "source": [
        "core_index = np.array(core_index)\n",
        "border_index = np.array(border_index)\n",
        "noise_index = np.array(noise_index)"
      ],
      "execution_count": 0,
      "outputs": []
    },
    {
      "cell_type": "markdown",
      "metadata": {
        "id": "4lzGqXA6d-WL",
        "colab_type": "text"
      },
      "source": [
        "핵심, 이웃, 노이즈 데이터 위치"
      ]
    },
    {
      "cell_type": "code",
      "metadata": {
        "id": "7pj-KX7iWl5M",
        "colab_type": "code",
        "outputId": "6e96d6e4-3312-487d-be3d-ebd2674a0166",
        "colab": {
          "base_uri": "https://localhost:8080/",
          "height": 283
        }
      },
      "source": [
        "plt.scatter(core_index[:,0],core_index[:,1])\n",
        "plt.scatter(border_index[:,0],border_index[:,1])\n",
        "plt.scatter(noise_index[:,0],noise_index[:,1])"
      ],
      "execution_count": 33,
      "outputs": [
        {
          "output_type": "execute_result",
          "data": {
            "text/plain": [
              "<matplotlib.collections.PathCollection at 0x7f7dc363c860>"
            ]
          },
          "metadata": {
            "tags": []
          },
          "execution_count": 33
        },
        {
          "output_type": "display_data",
          "data": {
            "image/png": "[encoded data removed]",
            "text/plain": [
              "<Figure size 432x288 with 1 Axes>"
            ]
          },
          "metadata": {
            "tags": [],
            "needs_background": "light"
          }
        }
      ]
    },
    {
      "cell_type": "markdown",
      "metadata": {
        "id": "GqK3HJrgcG_V",
        "colab_type": "text"
      },
      "source": [
        "코어 포인트들끼리 서로 이웃하면 서로 하나의 군집으로 묶인다고 합니다."
      ]
    },
    {
      "cell_type": "markdown",
      "metadata": {
        "id": "8b5E84fI_H0F",
        "colab_type": "text"
      },
      "source": [
        "sklearn DBSCAN 패키지를 활용한 구현"
      ]
    },
    {
      "cell_type": "code",
      "metadata": {
        "id": "-sIfXRBJWxoC",
        "colab_type": "code",
        "outputId": "19f92835-4f1b-4b0e-cbe9-807af404d092",
        "colab": {
          "base_uri": "https://localhost:8080/",
          "height": 53
        }
      },
      "source": [
        "from sklearn.cluster import DBSCAN\n",
        "\n",
        "dbscan = DBSCAN(eps=0.8,min_samples=3)\n",
        "\n",
        "dbscan.fit(rdata)"
      ],
      "execution_count": 34,
      "outputs": [
        {
          "output_type": "execute_result",
          "data": {
            "text/plain": [
              "DBSCAN(algorithm='auto', eps=0.8, leaf_size=30, metric='euclidean',\n",
              "       metric_params=None, min_samples=3, n_jobs=None, p=None)"
            ]
          },
          "metadata": {
            "tags": []
          },
          "execution_count": 34
        }
      ]
    },
    {
      "cell_type": "code",
      "metadata": {
        "id": "N1kOWzNZZ_Si",
        "colab_type": "code",
        "colab": {}
      },
      "source": [
        "y = dbscan.fit_predict(rdata)"
      ],
      "execution_count": 0,
      "outputs": []
    },
    {
      "cell_type": "markdown",
      "metadata": {
        "id": "x6xIZcTu_MMd",
        "colab_type": "text"
      },
      "source": [
        "y predict값이 예측한 클러스터링 값은 0부터 시작해서 클러스터 개수까지 +1로 올라갑니다. (ex) 군집개수가 2개면 0,1 )   \n",
        "-1값은 노이즈 데이터를 의미합니다."
      ]
    },
    {
      "cell_type": "code",
      "metadata": {
        "id": "0TfUMjyviG0v",
        "colab_type": "code",
        "outputId": "02d74231-de9f-498a-d2b7-94b370549bd4",
        "colab": {
          "base_uri": "https://localhost:8080/",
          "height": 35
        }
      },
      "source": [
        "y"
      ],
      "execution_count": 36,
      "outputs": [
        {
          "output_type": "execute_result",
          "data": {
            "text/plain": [
              "array([-1,  0,  0,  0,  0, -1,  0,  0, -1, -1])"
            ]
          },
          "metadata": {
            "tags": []
          },
          "execution_count": 36
        }
      ]
    },
    {
      "cell_type": "markdown",
      "metadata": {
        "id": "ln5Qo4s7CCJ8",
        "colab_type": "text"
      },
      "source": [
        "군집을 하나만 형성했고 노이즈 데이터가 4개 있습니다.  \n",
        "위에서 보았던 핵심데이터와 이웃데이터의 위치에 있던 데이터들이 하나의 군집을 형성했습니다.  "
      ]
    },
    {
      "cell_type": "code",
      "metadata": {
        "id": "7L_eAsxfhast",
        "colab_type": "code",
        "outputId": "58f332dc-9574-4ca4-d8dd-110aba968ee4",
        "colab": {
          "base_uri": "https://localhost:8080/",
          "height": 283
        }
      },
      "source": [
        "plt.scatter(rdata[y==0,0],rdata[y==0,1],c='blue')\n",
        "plt.scatter(rdata[y==-1,0],rdata[y==-1,1],c='red')"
      ],
      "execution_count": 41,
      "outputs": [
        {
          "output_type": "execute_result",
          "data": {
            "text/plain": [
              "<matplotlib.collections.PathCollection at 0x7f7dc34af9e8>"
            ]
          },
          "metadata": {
            "tags": []
          },
          "execution_count": 41
        },
        {
          "output_type": "display_data",
          "data": {
            "image/png": "[encoded data removed]",
            "text/plain": [
              "<Figure size 432x288 with 1 Axes>"
            ]
          },
          "metadata": {
            "tags": [],
            "needs_background": "light"
          }
        }
      ]
    },
    {
      "cell_type": "markdown",
      "metadata": {
        "id": "3HPHQndssyJn",
        "colab_type": "text"
      },
      "source": [
        "Reference  \n",
        "https://untitledtblog.tistory.com/146"
      ]
    }
  ]
}